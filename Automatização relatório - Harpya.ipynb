{
 "cells": [
  {
   "cell_type": "markdown",
   "id": "a6291392",
   "metadata": {},
   "source": [
    "# Script automatizado para extração de relatórios de programas de monitoramento analítico de produtos do Harpya"
   ]
  },
  {
   "cell_type": "markdown",
   "id": "1b627b04",
   "metadata": {},
   "source": [
    "## Instalação e importação de bibliotecas necessárias"
   ]
  },
  {
   "cell_type": "code",
   "execution_count": 32,
   "id": "df1b7028",
   "metadata": {},
   "outputs": [
    {
     "data": {
      "text/plain": [
       "['Collecting xlrd',\n",
       " '  Downloading xlrd-2.0.1-py2.py3-none-any.whl (96 kB)',\n",
       " '     ---------------------------------------- 96.5/96.5 kB 2.7 MB/s eta 0:00:00',\n",
       " 'Installing collected packages: xlrd',\n",
       " 'Successfully installed xlrd-2.0.1']"
      ]
     },
     "execution_count": 32,
     "metadata": {},
     "output_type": "execute_result"
    }
   ],
   "source": [
    "#Instalação de bibliotecas necessárias\n",
    "#pip install xlrd\n",
    "#pip install selenium"
   ]
  },
  {
   "cell_type": "code",
   "execution_count": 19,
   "id": "3eeee735",
   "metadata": {},
   "outputs": [],
   "source": [
    "#Carregamento de bibliotecas\n",
    "\n",
    "import os\n",
    "import pandas as pd\n",
    "import shutil\n",
    "import selenium.webdriver as drv\n",
    "from selenium.webdriver.common.by import By\n",
    "from selenium.webdriver.support.ui import Select\n",
    "from time import sleep\n",
    "from getpass import getpass"
   ]
  },
  {
   "cell_type": "markdown",
   "id": "dedf868c",
   "metadata": {},
   "source": [
    "## Criação de diretório base "
   ]
  },
  {
   "cell_type": "code",
   "execution_count": 2,
   "id": "800a351b",
   "metadata": {},
   "outputs": [
    {
     "name": "stdout",
     "output_type": "stream",
     "text": [
      "Diretório 'C:\\Automação Harpya' já existe.\n"
     ]
    }
   ],
   "source": [
    "#Criação de pasta para salvar relatórios\n",
    "diretorio = 'C:\\Automação Harpya'\n",
    "\n",
    "if not os.path.exists(diretorio):\n",
    "    os.makedirs(diretorio)\n",
    "    print(f\"Diretório '{diretorio}' criado com sucesso.\")\n",
    "else:\n",
    "    print(f\"Diretório '{diretorio}' já existe.\")"
   ]
  },
  {
   "cell_type": "markdown",
   "id": "a825ca43",
   "metadata": {},
   "source": [
    "## Carregamento e manipulação de tabela base de filtros de buscas dos relatórios"
   ]
  },
  {
   "cell_type": "code",
   "execution_count": 3,
   "id": "1a67030e",
   "metadata": {},
   "outputs": [],
   "source": [
    "#Carregamento tabela base de programas\n",
    "base = pd.read_excel(\"C:/Automação Harpya/Programas.xlsx\")"
   ]
  },
  {
   "cell_type": "code",
   "execution_count": 5,
   "id": "eb132ca5",
   "metadata": {},
   "outputs": [
    {
     "name": "stdout",
     "output_type": "stream",
     "text": [
      "<class 'pandas.core.frame.DataFrame'>\n",
      "RangeIndex: 3 entries, 0 to 2\n",
      "Data columns (total 6 columns):\n",
      " #   Column                     Non-Null Count  Dtype  \n",
      "---  ------                     --------------  -----  \n",
      " 0   Programa de monitoramento  3 non-null      object \n",
      " 1   Data inicial               3 non-null      object \n",
      " 2   Categoria de produto       3 non-null      object \n",
      " 3   Modalidade                 3 non-null      object \n",
      " 4   Produto                    2 non-null      object \n",
      " 5   URL Sharepoint             0 non-null      float64\n",
      "dtypes: float64(1), object(5)\n",
      "memory usage: 272.0+ bytes\n"
     ]
    }
   ],
   "source": [
    "#Visualizar informações da tabela base\n",
    "base.info()"
   ]
  },
  {
   "cell_type": "code",
   "execution_count": 6,
   "id": "eddfb9c5",
   "metadata": {},
   "outputs": [],
   "source": [
    "#Substituir valores nulos por espaço em branco\n",
    "base.fillna('', inplace=True)"
   ]
  },
  {
   "cell_type": "code",
   "execution_count": 13,
   "id": "2b9f9e84",
   "metadata": {},
   "outputs": [
    {
     "name": "stdout",
     "output_type": "stream",
     "text": [
      "Diretório 'Azitromicina' criado com sucesso.\n",
      "Diretório 'Vacina' criado com sucesso.\n",
      "Diretório 'Imunoglobulina' criado com sucesso.\n"
     ]
    }
   ],
   "source": [
    "#Criação de pasta para salvar relatórios de cada programa\n",
    "raiz = 'C:/Automação Harpya/'\n",
    "\n",
    "for index, row in base.iterrows():\n",
    "    pasta = row['Programa de monitoramento']\n",
    "    dir_pasta = raiz + pasta\n",
    "    if not os.path.exists(dir_pasta):\n",
    "        os.makedirs(dir_pasta)\n",
    "        print(f\"Diretório '{pasta}' criado com sucesso.\")\n",
    "    else:\n",
    "        print(f\"Diretório '{pasta}' já existe.\")"
   ]
  },
  {
   "cell_type": "markdown",
   "id": "612cf00b",
   "metadata": {},
   "source": [
    "## Captura de credenciais do usuário"
   ]
  },
  {
   "cell_type": "code",
   "execution_count": 20,
   "id": "8d317463",
   "metadata": {},
   "outputs": [
    {
     "name": "stdout",
     "output_type": "stream",
     "text": [
      "Login: \n"
     ]
    }
   ],
   "source": [
    "#Inserção dos dados de login do usuário\n",
    "usuario = input(\"Login: \")"
   ]
  },
  {
   "cell_type": "code",
   "execution_count": 21,
   "id": "8e7dad29",
   "metadata": {},
   "outputs": [
    {
     "name": "stdout",
     "output_type": "stream",
     "text": [
      "Senha: ········\n"
     ]
    }
   ],
   "source": [
    "#Inserção da senha do usuário\n",
    "senha = getpass(\"Senha: \")"
   ]
  },
  {
   "cell_type": "markdown",
   "id": "b990254f",
   "metadata": {},
   "source": [
    "## Carregamento do navegador e acesso ao sistema Harpya"
   ]
  },
  {
   "cell_type": "code",
   "execution_count": 40,
   "id": "83aea710",
   "metadata": {},
   "outputs": [],
   "source": [
    "#Carregamento do navegador em modo anônimo\n",
    "option = drv.ChromeOptions()\n",
    "option.add_argument('-icognito')\n",
    "\n",
    "navegador = drv.Chrome(options=option)"
   ]
  },
  {
   "cell_type": "code",
   "execution_count": 41,
   "id": "74293477",
   "metadata": {},
   "outputs": [],
   "source": [
    "#Acesso à página do Harpya\n",
    "navegador.get('https://harpya.datasus.gov.br/harpya/login.seam?cid=234690')"
   ]
  },
  {
   "cell_type": "code",
   "execution_count": 42,
   "id": "cd51a6fe",
   "metadata": {},
   "outputs": [],
   "source": [
    "#Carregamento dos campos de usuário e senha e acesso ao sistema com a inserção das credenciais\n",
    "campos = navegador.find_elements(By.CLASS_NAME, 'form-control')\n",
    "\n",
    "sleep(1)\n",
    "\n",
    "campos[0].send_keys(usuario)\n",
    "campos[1].send_keys(senha)\n",
    "\n",
    "sleep(1)\n",
    "\n",
    "entrar = navegador.find_elements(By.ID, 'btnEntrar')\n",
    "entrar[0].click()"
   ]
  },
  {
   "cell_type": "markdown",
   "id": "4ff26dd0",
   "metadata": {},
   "source": [
    "## Extração dos relatórios e upload na pasta do Sharepoint"
   ]
  },
  {
   "cell_type": "code",
   "execution_count": 45,
   "id": "72b1f226",
   "metadata": {},
   "outputs": [],
   "source": [
    "#Acesso à página de relatórios do Harpya\n",
    "navegador.get('https://harpya.datasus.gov.br/harpya/views/gestao/nacional/home.seam?actionMethod=views%2Famostra.xhtml%3AgestaoLocal.iniciarGestaoNacional%28%27nacional%27%29&cid=234812&conversationPropagation=end')"
   ]
  },
  {
   "cell_type": "code",
   "execution_count": 46,
   "id": "c835bc15",
   "metadata": {},
   "outputs": [],
   "source": [
    "#Seleção de campos para busca e extração dos relatórios\n",
    "\n",
    "for index, row in base.iterrows():\n",
    "    programa = row['Programa de monitoramento']\n",
    "    data_in = row['Data inicial']\n",
    "    categoria = row['Categoria de produto']\n",
    "    modalidade = row['Modalidade']\n",
    "    produto = row['Produto']\n",
    "    url = row['URL Sharepoint']\n",
    "    \n",
    "    #Identificar campos e botão de buscar\n",
    "    data_inicial = navegador.find_elements(By.ID, 'frmAmostras:tipoData1InputDate')\n",
    "    cat_prod = Select(navegador.find_element(By.ID, 'frmAmostras:categoriaDeProduto'))\n",
    "    mod = Select(navegador.find_element(By.ID, 'frmAmostras:modalidade'))\n",
    "    prod = navegador.find_elements(By.ID, 'frmAmostras:nomeProduto')\n",
    "    buscar = navegador.find_elements(By.ID, 'frmAmostras:btnBuscar')\n",
    "    \n",
    "    #Preenchimento dos dados\n",
    "    data_inicial[0].clear()\n",
    "    data_inicial[0].send_keys(data_in)\n",
    "    cat_prod.select_by_visible_text(categoria)\n",
    "    mod.select_by_visible_text(modalidade)\n",
    "    prod[0].clear()\n",
    "    prod[0].send_keys(produto)\n",
    "\n",
    "    sleep(3)\n",
    "\n",
    "    #Buscar relatório\n",
    "    buscar[0].click()\n",
    "    \n",
    "    sleep(3)\n",
    "    \n",
    "    #Baixar relatório em Excel\n",
    "    excel = navegador.find_elements(By.ID, 'frmResultados:btnExcel')\n",
    "    excel[0].click()\n",
    "    \n",
    "    sleep(5)\n",
    "    \n",
    "    #Renomear e mover arquivo baixado\n",
    "    caminho_antigo = \"C:/Users/Danilo/Downloads/localizarAmostras-excel.xls\"\n",
    "    nome_arquivo = f\"Harpya-{programa}.xls\"\n",
    "    novo_caminho = f\"C:/Automação Harpya/{programa}/{nome_arquivo}\"\n",
    "    shutil.move(caminho_antigo, novo_caminho)\n",
    "    \n",
    "    #Converter o arquivo em xlsx\n",
    "    arquivo = pd.read_excel(novo_caminho)\n",
    "    arquivo.to_excel(f\"{novo_caminho}x\", index=False)\n",
    "    \n",
    "    # Excluir a versão antiga do arquivo - se enteder necessário\n",
    "    #os.remove(novo_caminho)\n",
    "    \n",
    "    #Renomear e mover arquivo baixado para a pasta Sharepoint\n",
    "    arquivo_xlsx = f\"{novo_caminho}x\"\n",
    "    url_sharepoint = f\"{url}/{nome_arquivo}x\"\n",
    "    shutil.copy(arquivo_xlsx, url_sharepoint)"
   ]
  }
 ],
 "metadata": {
  "kernelspec": {
   "display_name": "Python 3 (ipykernel)",
   "language": "python",
   "name": "python3"
  },
  "language_info": {
   "codemirror_mode": {
    "name": "ipython",
    "version": 3
   },
   "file_extension": ".py",
   "mimetype": "text/x-python",
   "name": "python",
   "nbconvert_exporter": "python",
   "pygments_lexer": "ipython3",
   "version": "3.10.9"
  }
 },
 "nbformat": 4,
 "nbformat_minor": 5
}
